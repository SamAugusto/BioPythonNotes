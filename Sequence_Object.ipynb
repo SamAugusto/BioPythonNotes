{
  "nbformat": 4,
  "nbformat_minor": 0,
  "metadata": {
    "colab": {
      "provenance": [],
      "authorship_tag": "ABX9TyMTjh02T8RGEbTjh13iu3pB",
      "include_colab_link": true
    },
    "kernelspec": {
      "name": "python3",
      "display_name": "Python 3"
    },
    "language_info": {
      "name": "python"
    }
  },
  "cells": [
    {
      "cell_type": "markdown",
      "metadata": {
        "id": "view-in-github",
        "colab_type": "text"
      },
      "source": [
        "<a href=\"https://colab.research.google.com/github/SamAugusto/BioPythonNotes/blob/main/Sequence_Object.ipynb\" target=\"_parent\"><img src=\"https://colab.research.google.com/assets/colab-badge.svg\" alt=\"Open In Colab\"/></a>"
      ]
    },
    {
      "cell_type": "markdown",
      "source": [
        "# Sequence objects.\n",
        "**Seq objects**: Objects that come from BioPython that store sequences. They can be simlar to python strings however, some of the methods that can be used on Seq objects might differ from string methods. For instance the **translate()** method does biological translation\n"
      ],
      "metadata": {
        "id": "dNMhzGsrEuAm"
      }
    },
    {
      "cell_type": "code",
      "source": [
        "!pip install Bio"
      ],
      "metadata": {
        "colab": {
          "base_uri": "https://localhost:8080/"
        },
        "id": "GVGPuJqNGBlX",
        "outputId": "68a6dee4-70d1-4e45-ada4-15fd39a86966"
      },
      "execution_count": 3,
      "outputs": [
        {
          "output_type": "stream",
          "name": "stdout",
          "text": [
            "Collecting Bio\n",
            "  Downloading bio-1.8.0-py3-none-any.whl.metadata (5.7 kB)\n",
            "Collecting biopython>=1.80 (from Bio)\n",
            "  Downloading biopython-1.85-cp311-cp311-manylinux_2_17_x86_64.manylinux2014_x86_64.whl.metadata (13 kB)\n",
            "Collecting gprofiler-official (from Bio)\n",
            "  Downloading gprofiler_official-1.0.0-py3-none-any.whl.metadata (11 kB)\n",
            "Collecting mygene (from Bio)\n",
            "  Downloading mygene-3.2.2-py2.py3-none-any.whl.metadata (10 kB)\n",
            "Requirement already satisfied: pandas in /usr/local/lib/python3.11/dist-packages (from Bio) (2.2.2)\n",
            "Requirement already satisfied: pooch in /usr/local/lib/python3.11/dist-packages (from Bio) (1.8.2)\n",
            "Requirement already satisfied: requests in /usr/local/lib/python3.11/dist-packages (from Bio) (2.32.3)\n",
            "Requirement already satisfied: tqdm in /usr/local/lib/python3.11/dist-packages (from Bio) (4.67.1)\n",
            "Requirement already satisfied: numpy in /usr/local/lib/python3.11/dist-packages (from biopython>=1.80->Bio) (2.0.2)\n",
            "Collecting biothings-client>=0.2.6 (from mygene->Bio)\n",
            "  Downloading biothings_client-0.4.1-py3-none-any.whl.metadata (10 kB)\n",
            "Requirement already satisfied: python-dateutil>=2.8.2 in /usr/local/lib/python3.11/dist-packages (from pandas->Bio) (2.9.0.post0)\n",
            "Requirement already satisfied: pytz>=2020.1 in /usr/local/lib/python3.11/dist-packages (from pandas->Bio) (2025.2)\n",
            "Requirement already satisfied: tzdata>=2022.7 in /usr/local/lib/python3.11/dist-packages (from pandas->Bio) (2025.2)\n",
            "Requirement already satisfied: platformdirs>=2.5.0 in /usr/local/lib/python3.11/dist-packages (from pooch->Bio) (4.3.8)\n",
            "Requirement already satisfied: packaging>=20.0 in /usr/local/lib/python3.11/dist-packages (from pooch->Bio) (24.2)\n",
            "Requirement already satisfied: charset-normalizer<4,>=2 in /usr/local/lib/python3.11/dist-packages (from requests->Bio) (3.4.2)\n",
            "Requirement already satisfied: idna<4,>=2.5 in /usr/local/lib/python3.11/dist-packages (from requests->Bio) (3.10)\n",
            "Requirement already satisfied: urllib3<3,>=1.21.1 in /usr/local/lib/python3.11/dist-packages (from requests->Bio) (2.4.0)\n",
            "Requirement already satisfied: certifi>=2017.4.17 in /usr/local/lib/python3.11/dist-packages (from requests->Bio) (2025.4.26)\n",
            "Requirement already satisfied: httpx>=0.22.0 in /usr/local/lib/python3.11/dist-packages (from biothings-client>=0.2.6->mygene->Bio) (0.28.1)\n",
            "Requirement already satisfied: six>=1.5 in /usr/local/lib/python3.11/dist-packages (from python-dateutil>=2.8.2->pandas->Bio) (1.17.0)\n",
            "Requirement already satisfied: anyio in /usr/local/lib/python3.11/dist-packages (from httpx>=0.22.0->biothings-client>=0.2.6->mygene->Bio) (4.9.0)\n",
            "Requirement already satisfied: httpcore==1.* in /usr/local/lib/python3.11/dist-packages (from httpx>=0.22.0->biothings-client>=0.2.6->mygene->Bio) (1.0.9)\n",
            "Requirement already satisfied: h11>=0.16 in /usr/local/lib/python3.11/dist-packages (from httpcore==1.*->httpx>=0.22.0->biothings-client>=0.2.6->mygene->Bio) (0.16.0)\n",
            "Requirement already satisfied: sniffio>=1.1 in /usr/local/lib/python3.11/dist-packages (from anyio->httpx>=0.22.0->biothings-client>=0.2.6->mygene->Bio) (1.3.1)\n",
            "Requirement already satisfied: typing_extensions>=4.5 in /usr/local/lib/python3.11/dist-packages (from anyio->httpx>=0.22.0->biothings-client>=0.2.6->mygene->Bio) (4.14.0)\n",
            "Downloading bio-1.8.0-py3-none-any.whl (321 kB)\n",
            "\u001b[2K   \u001b[90m━━━━━━━━━━━━━━━━━━━━━━━━━━━━━━━━━━━━━━━━\u001b[0m \u001b[32m321.1/321.1 kB\u001b[0m \u001b[31m7.7 MB/s\u001b[0m eta \u001b[36m0:00:00\u001b[0m\n",
            "\u001b[?25hDownloading biopython-1.85-cp311-cp311-manylinux_2_17_x86_64.manylinux2014_x86_64.whl (3.3 MB)\n",
            "\u001b[2K   \u001b[90m━━━━━━━━━━━━━━━━━━━━━━━━━━━━━━━━━━━━━━━━\u001b[0m \u001b[32m3.3/3.3 MB\u001b[0m \u001b[31m55.8 MB/s\u001b[0m eta \u001b[36m0:00:00\u001b[0m\n",
            "\u001b[?25hDownloading gprofiler_official-1.0.0-py3-none-any.whl (9.3 kB)\n",
            "Downloading mygene-3.2.2-py2.py3-none-any.whl (5.4 kB)\n",
            "Downloading biothings_client-0.4.1-py3-none-any.whl (46 kB)\n",
            "\u001b[2K   \u001b[90m━━━━━━━━━━━━━━━━━━━━━━━━━━━━━━━━━━━━━━━━\u001b[0m \u001b[32m46.7/46.7 kB\u001b[0m \u001b[31m4.1 MB/s\u001b[0m eta \u001b[36m0:00:00\u001b[0m\n",
            "\u001b[?25hInstalling collected packages: biopython, gprofiler-official, biothings-client, mygene, Bio\n",
            "Successfully installed Bio-1.8.0 biopython-1.85 biothings-client-0.4.1 gprofiler-official-1.0.0 mygene-3.2.2\n"
          ]
        }
      ]
    },
    {
      "cell_type": "code",
      "source": [
        "#Example 1:\n",
        "from Bio.Seq import Seq\n",
        "my_seq = Seq(\"GATCG\")\n",
        "for index, letter in enumerate(my_seq):\n",
        "  print(f'{index} {letter}')\n",
        "print(\"My sequence length is:\", (len(my_seq)), sep = ' ')"
      ],
      "metadata": {
        "colab": {
          "base_uri": "https://localhost:8080/"
        },
        "id": "2sTv27JMFot9",
        "outputId": "9e78c564-4d4e-41c2-8eaa-ac060c89ac10"
      },
      "execution_count": 8,
      "outputs": [
        {
          "output_type": "stream",
          "name": "stdout",
          "text": [
            "0 G\n",
            "1 A\n",
            "2 T\n",
            "3 C\n",
            "4 G\n",
            "My sequence length is: 5\n"
          ]
        }
      ]
    },
    {
      "cell_type": "markdown",
      "source": [
        "Elements of a sequence can be accessed the same way as strings"
      ],
      "metadata": {
        "id": "hvrTrsBiGXPO"
      }
    },
    {
      "cell_type": "code",
      "source": [
        "#Example 2 :\n",
        "print(my_seq[0])\n",
        "print(my_seq[2])"
      ],
      "metadata": {
        "colab": {
          "base_uri": "https://localhost:8080/"
        },
        "id": "Z0KJ89tnGgnJ",
        "outputId": "1ccb6aa6-388f-49a8-c951-cbeefda11ccd"
      },
      "execution_count": 9,
      "outputs": [
        {
          "output_type": "stream",
          "name": "stdout",
          "text": [
            "G\n",
            "T\n"
          ]
        }
      ]
    },
    {
      "cell_type": "markdown",
      "source": [
        "The **Seq** object has another method, **\".count()\"**. It gives a non overlapping count."
      ],
      "metadata": {
        "id": "UuWTM3BYGnmY"
      }
    },
    {
      "cell_type": "code",
      "source": [
        "#Example 3:\n",
        "AA_count = Seq(\"AAAA\").count(\"AA\")\n",
        "print(f\"There are {AA_count} AA occurence(s).\")\n",
        "#Example 4:\n",
        "my_seq = Seq(\"GATCGATGGGCCTATATAGGATCGAAAATCGC\")\n",
        "count_of_G = my_seq.count(\"G\")\n",
        "print(f\"There are {count_of_G} G occurence(s).\")\n",
        "GC_percentage = 100*((my_seq.count(\"G\") + my_seq.count(\"C\"))/len(my_seq))\n",
        "print(f\"There are {GC_percentage}% GC in this sequence\")\n"
      ],
      "metadata": {
        "colab": {
          "base_uri": "https://localhost:8080/"
        },
        "id": "jLjw-oNjG4RJ",
        "outputId": "359caa21-a910-45b1-856c-d60a68f6a4b1"
      },
      "execution_count": 15,
      "outputs": [
        {
          "output_type": "stream",
          "name": "stdout",
          "text": [
            "There are 2 AA occurence(s).\n",
            "There are 9 G occurence(s).\n",
            "There are 46.875% GC in this sequence\n"
          ]
        }
      ]
    },
    {
      "cell_type": "markdown",
      "source": [
        "BioPython has some already inbuild functions that can perform gc_operations"
      ],
      "metadata": {
        "id": "NIVc-TYRHCOo"
      }
    },
    {
      "cell_type": "code",
      "source": [
        "#Example:\n",
        "from Bio.Seq import Seq\n",
        "from Bio.SeqUtils import gc_fraction\n",
        "my_seq = Seq(\"GATCGATGGGCCTATATAGGATCGAAAATCGC\")\n",
        "gc_fraction(my_seq)\n"
      ],
      "metadata": {
        "colab": {
          "base_uri": "https://localhost:8080/"
        },
        "id": "nJw9Szz5ItME",
        "outputId": "cc1f3bf6-a329-4390-e23b-82fca173851a"
      },
      "execution_count": 21,
      "outputs": [
        {
          "output_type": "execute_result",
          "data": {
            "text/plain": [
              "0.46875"
            ]
          },
          "metadata": {},
          "execution_count": 21
        }
      ]
    },
    {
      "cell_type": "markdown",
      "source": [
        "Note that the **gc_fraction()** function has already an inbuild feature that takes into account ambigous nucleotides S (which can be G or C)"
      ],
      "metadata": {
        "id": "z2IxTYGtJF12"
      }
    },
    {
      "cell_type": "code",
      "source": [
        "#Example\n",
        "my_seq = Seq(\"SATSSATGGGCCTATATAGGATCGAAAATCSS\")\n",
        "gc_fraction(my_seq)"
      ],
      "metadata": {
        "colab": {
          "base_uri": "https://localhost:8080/"
        },
        "id": "7xCY3IjqJNUw",
        "outputId": "d5f0e86c-dddb-4b49-e366-452034fa66dd"
      },
      "execution_count": 20,
      "outputs": [
        {
          "output_type": "execute_result",
          "data": {
            "text/plain": [
              "0.46875"
            ]
          },
          "metadata": {},
          "execution_count": 20
        }
      ]
    },
    {
      "cell_type": "markdown",
      "source": [
        "The Seq object is and immutable object so you cannot perform the same mutable properties that python strings have however, Section MutableSeq section goes more into how to edit sequences"
      ],
      "metadata": {
        "id": "ZBeng6x4JcUG"
      }
    },
    {
      "cell_type": "code",
      "source": [
        "#Example:\n",
        "my_seq[0]= \"G\""
      ],
      "metadata": {
        "colab": {
          "base_uri": "https://localhost:8080/",
          "height": 159
        },
        "id": "ulPnTYFDKezS",
        "outputId": "0df681e8-6fb4-4460-c083-b3baa23513d3"
      },
      "execution_count": 25,
      "outputs": [
        {
          "output_type": "error",
          "ename": "TypeError",
          "evalue": "'Seq' object does not support item assignment",
          "traceback": [
            "\u001b[0;31m---------------------------------------------------------------------------\u001b[0m",
            "\u001b[0;31mTypeError\u001b[0m                                 Traceback (most recent call last)",
            "\u001b[0;32m<ipython-input-25-959787810>\u001b[0m in \u001b[0;36m<cell line: 0>\u001b[0;34m()\u001b[0m\n\u001b[1;32m      1\u001b[0m \u001b[0;31m#Example:\u001b[0m\u001b[0;34m\u001b[0m\u001b[0;34m\u001b[0m\u001b[0m\n\u001b[0;32m----> 2\u001b[0;31m \u001b[0mmy_seq\u001b[0m\u001b[0;34m[\u001b[0m\u001b[0;36m0\u001b[0m\u001b[0;34m]\u001b[0m\u001b[0;34m=\u001b[0m \u001b[0;34m\"G\"\u001b[0m\u001b[0;34m\u001b[0m\u001b[0;34m\u001b[0m\u001b[0m\n\u001b[0m",
            "\u001b[0;31mTypeError\u001b[0m: 'Seq' object does not support item assignment"
          ]
        }
      ]
    },
    {
      "cell_type": "markdown",
      "source": [
        "# Slicing a sequences\n",
        "Follows normal pythons string rules"
      ],
      "metadata": {
        "id": "BZ08xJjvKgmL"
      }
    },
    {
      "cell_type": "code",
      "source": [
        "#Example:\n",
        "my_seq = Seq(\"GATCGATGGGCCTATATAGGATCGAAAATCGC\")\n",
        "print(my_seq[4:12])\n",
        "print(my_seq[0::3])\n",
        "print(my_seq[::-1])\n",
        "#Note that during the print function python displays\n",
        "#the sequences as if it was a string\n"
      ],
      "metadata": {
        "colab": {
          "base_uri": "https://localhost:8080/"
        },
        "id": "Sp8eei5ZK4kL",
        "outputId": "1e35cf1e-b5b7-4028-93e4-0abe5fb41a89"
      },
      "execution_count": 28,
      "outputs": [
        {
          "output_type": "stream",
          "name": "stdout",
          "text": [
            "GATGGGCC\n",
            "GCTGTAGTAAG\n",
            "CGCTAAAAGCTAGGATATATCCGGGTAGCTAG\n"
          ]
        }
      ]
    },
    {
      "cell_type": "markdown",
      "source": [
        "# Turning Seq objects into strings"
      ],
      "metadata": {
        "id": "Zpo1XSWPK_0P"
      }
    },
    {
      "cell_type": "code",
      "source": [
        "# Just aply the str into the object\n",
        "str(my_seq)\n"
      ],
      "metadata": {
        "colab": {
          "base_uri": "https://localhost:8080/",
          "height": 35
        },
        "id": "QMnrOl3YLWyc",
        "outputId": "fc0bcdee-b034-4ed4-ee82-b8f29191629a"
      },
      "execution_count": 29,
      "outputs": [
        {
          "output_type": "execute_result",
          "data": {
            "text/plain": [
              "'GATCGATGGGCCTATATAGGATCGAAAATCGC'"
            ],
            "application/vnd.google.colaboratory.intrinsic+json": {
              "type": "string"
            }
          },
          "metadata": {},
          "execution_count": 29
        }
      ]
    },
    {
      "cell_type": "code",
      "source": [
        "# You can also reverse the operation by calling the Seq object into a string\n",
        "Seq(str(my_seq))"
      ],
      "metadata": {
        "colab": {
          "base_uri": "https://localhost:8080/"
        },
        "id": "k162z-6qLfdO",
        "outputId": "d1ffc854-9b51-41ea-c6dc-ac0e408bcbab"
      },
      "execution_count": 30,
      "outputs": [
        {
          "output_type": "execute_result",
          "data": {
            "text/plain": [
              "Seq('GATCGATGGGCCTATATAGGATCGAAAATCGC')"
            ]
          },
          "metadata": {},
          "execution_count": 30
        }
      ]
    },
    {
      "cell_type": "markdown",
      "source": [
        "# Concatenating or Adding sequences"
      ],
      "metadata": {
        "id": "X9iMgYRYMD54"
      }
    },
    {
      "cell_type": "code",
      "source": [
        "# Follows the Normal Python String rule\n",
        "seq1 = Seq(\"ACGT\")\n",
        "seq2 = Seq(\"AACCGG\")\n",
        "seq1 + seq2"
      ],
      "metadata": {
        "colab": {
          "base_uri": "https://localhost:8080/"
        },
        "id": "OTiODCUkMH8C",
        "outputId": "d06d9bc6-8736-462c-f88c-8849acd1b7f6"
      },
      "execution_count": 31,
      "outputs": [
        {
          "output_type": "execute_result",
          "data": {
            "text/plain": [
              "Seq('ACGTAACCGG')"
            ]
          },
          "metadata": {},
          "execution_count": 31
        }
      ]
    },
    {
      "cell_type": "markdown",
      "source": [
        "Biopython does not check the sequence contents and will not raise an exception if for example you concatenate a protein sequence and a DNA sequence (which is likely a mistake):"
      ],
      "metadata": {
        "id": "rxVbWWwPMUlc"
      }
    },
    {
      "cell_type": "code",
      "source": [
        "#Example:\n",
        "protein_seq = Seq(\"EVRNAK\")\n",
        "dna_seq = Seq(\"ACGT\")\n",
        "protein_seq + dna_seq"
      ],
      "metadata": {
        "colab": {
          "base_uri": "https://localhost:8080/"
        },
        "id": "J7Fwg3MiMYPw",
        "outputId": "2cb05ab1-e5ad-4408-a710-6b01f0382a91"
      },
      "execution_count": 33,
      "outputs": [
        {
          "output_type": "execute_result",
          "data": {
            "text/plain": [
              "Seq('EVRNAKACGT')"
            ]
          },
          "metadata": {},
          "execution_count": 33
        }
      ]
    },
    {
      "cell_type": "code",
      "source": [
        "#Example on how to add multiple sequences\n",
        "\n",
        "list_of_seqs = [Seq(\"ACGT\"), Seq(\"AACC\"), Seq(\"GGTT\")]\n",
        "concatnated_seqs = Seq(\"\")\n",
        "for seqs in list_of_seqs:\n",
        "  concatnated_seqs += seqs\n",
        "concatnated_seqs"
      ],
      "metadata": {
        "colab": {
          "base_uri": "https://localhost:8080/"
        },
        "id": "idyqIEqbMaBA",
        "outputId": "1f0b5991-2dd4-4f79-abd1-0ac34d835e5d"
      },
      "execution_count": 38,
      "outputs": [
        {
          "output_type": "execute_result",
          "data": {
            "text/plain": [
              "Seq('ACGTAACCGGTT')"
            ]
          },
          "metadata": {},
          "execution_count": 38
        }
      ]
    },
    {
      "cell_type": "markdown",
      "source": [
        "Like Pythons strings biopython Seq also has .join method"
      ],
      "metadata": {
        "id": "S8m5WSF-Ng-X"
      }
    },
    {
      "cell_type": "code",
      "source": [
        "contigs = [Seq(\"ATG\"), Seq(\"ATCCCG\"), Seq(\"TTGCA\")]\n",
        "spacer = Seq(\"N\"*10)\n",
        "spacer.join(contigs)"
      ],
      "metadata": {
        "colab": {
          "base_uri": "https://localhost:8080/"
        },
        "id": "-o4K00RjNw9a",
        "outputId": "7a4234c4-ca5f-4578-cd17-0adf108da52c"
      },
      "execution_count": 39,
      "outputs": [
        {
          "output_type": "execute_result",
          "data": {
            "text/plain": [
              "Seq('ATGNNNNNNNNNNATCCCGNNNNNNNNNNTTGCA')"
            ]
          },
          "metadata": {},
          "execution_count": 39
        }
      ]
    },
    {
      "cell_type": "markdown",
      "source": [
        "Changing Case"
      ],
      "metadata": {
        "id": "ajMWYVXkN7LJ"
      }
    },
    {
      "cell_type": "markdown",
      "source": [
        "Follows the same rules as python"
      ],
      "metadata": {
        "id": "cSg1o1eeN9gf"
      }
    },
    {
      "cell_type": "code",
      "source": [
        "from Bio.Seq import Seq\n",
        "dna_seq = Seq(\"acgtACGT\")\n",
        "dna_seq\n",
        "Seq('acgtACGT')\n",
        "dna_seq.upper()\n",
        "Seq('ACGTACGT')\n",
        "dna_seq.lower()\n",
        "Seq('acgtacgt')\n",
        "\"GTAC\" in dna_seq\n",
        "\n",
        "\"GTAC\" in dna_seq.upper()\n"
      ],
      "metadata": {
        "colab": {
          "base_uri": "https://localhost:8080/"
        },
        "id": "_Zb5xPpQOCHC",
        "outputId": "6a102b38-5d15-49a0-85af-32c5905965f2"
      },
      "execution_count": 42,
      "outputs": [
        {
          "output_type": "execute_result",
          "data": {
            "text/plain": [
              "True"
            ]
          },
          "metadata": {},
          "execution_count": 42
        }
      ]
    },
    {
      "cell_type": "markdown",
      "source": [
        "Nucleotide sequences and (reverse) complements\n"
      ],
      "metadata": {
        "id": "uvRuFx1cOE75"
      }
    },
    {
      "cell_type": "markdown",
      "source": [
        "The methods complement() or reverse() can be used to obtain their respective operations"
      ],
      "metadata": {
        "id": "ifTo8AGFONJP"
      }
    },
    {
      "cell_type": "code",
      "source": [
        "from Bio.Seq import Seq\n",
        "my_seq = Seq(\"GATCGATGGGCCTATATAGGATCGAAAATCGC\")\n",
        "my_seq\n",
        "Seq('GATCGATGGGCCTATATAGGATCGAAAATCGC')\n",
        "my_seq.complement()\n",
        "Seq('CTAGCTACCCGGATATATCCTAGCTTTTAGCG')\n",
        "my_seq.reverse_complement()\n",
        "Seq('GCGATTTTCGATCCTATATAGGCCCATCGATC')"
      ],
      "metadata": {
        "colab": {
          "base_uri": "https://localhost:8080/"
        },
        "id": "wmPG1knmOVpr",
        "outputId": "c3bd1fc5-ed2e-4af1-a716-a5af13d97271"
      },
      "execution_count": 43,
      "outputs": [
        {
          "output_type": "execute_result",
          "data": {
            "text/plain": [
              "Seq('GCGATTTTCGATCCTATATAGGCCCATCGATC')"
            ]
          },
          "metadata": {},
          "execution_count": 43
        }
      ]
    },
    {
      "cell_type": "code",
      "source": [
        "from Bio.Seq import Seq\n",
        "protein_seq = Seq(\"EVRNAK\")\n",
        "protein_seq.complement()"
      ],
      "metadata": {
        "colab": {
          "base_uri": "https://localhost:8080/"
        },
        "id": "VDSS_t9OOoiv",
        "outputId": "669ec212-a8e5-4527-f907-898d76ac8a08"
      },
      "execution_count": 44,
      "outputs": [
        {
          "output_type": "execute_result",
          "data": {
            "text/plain": [
              "Seq('EBYNTM')"
            ]
          },
          "metadata": {},
          "execution_count": 44
        }
      ]
    },
    {
      "cell_type": "markdown",
      "source": [
        "Transcription"
      ],
      "metadata": {
        "id": "6ywMteDcO-oV"
      }
    },
    {
      "cell_type": "markdown",
      "source": [
        "Now let’s actually get down to doing a transcription in Biopython"
      ],
      "metadata": {
        "id": "VeJoMDG9O_rY"
      }
    }
  ]
}